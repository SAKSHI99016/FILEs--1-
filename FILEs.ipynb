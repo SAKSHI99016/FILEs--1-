{
  "nbformat": 4,
  "nbformat_minor": 0,
  "metadata": {
    "colab": {
      "provenance": []
    },
    "kernelspec": {
      "name": "python3",
      "display_name": "Python 3"
    },
    "language_info": {
      "name": "python"
    }
  },
  "cells": [
    {
      "cell_type": "code",
      "execution_count": null,
      "metadata": {
        "id": "oes92hGUmuKh"
      },
      "outputs": [],
      "source": [
        "Q.1) What is the difference between interpreted and compiled languages?"
      ]
    },
    {
      "cell_type": "markdown",
      "source": [
        "==)) Compiled and interpreted programming languages differ in how they translate and execute code. Compiled languages, like C++ and Java, are first translated into machine code by a compiler, which is then executed. Interpreted languages, like Python and JavaScript, are executed line by line by an interpreter without prior compilation."
      ],
      "metadata": {
        "id": "a74dx2LWnsNM"
      }
    },
    {
      "cell_type": "code",
      "source": [
        "Q.2) What is exception handling in Python?"
      ],
      "metadata": {
        "id": "Hb5c6AY9m02n"
      },
      "execution_count": null,
      "outputs": []
    },
    {
      "cell_type": "markdown",
      "source": [
        "==)) Exception handling is a programming mechanism that allows a program to gracefully respond to unexpected events or errors during runtime, preventing the program from crashing and allowing it to continue executing or take alternative actions."
      ],
      "metadata": {
        "id": "gVXSQDFCoY4-"
      }
    },
    {
      "cell_type": "code",
      "source": [
        "Q.3) What is the purpose of the finally block in exception handling?"
      ],
      "metadata": {
        "id": "Zi6W_7G8m0z6"
      },
      "execution_count": null,
      "outputs": []
    },
    {
      "cell_type": "markdown",
      "source": [
        "==)) The finally block in exception handling is used to ensure that a specific piece of code is executed, regardless of whether an exception occurs in the try block or not. It's primarily used for cleanup tasks like releasing resources or closing connections, ensuring that these actions are always performed, even if the code encounters an error."
      ],
      "metadata": {
        "id": "Vt-SusZfooyc"
      }
    },
    {
      "cell_type": "code",
      "source": [
        "Q.4) What is logging in Python?"
      ],
      "metadata": {
        "id": "FgTuP1Iam0w7"
      },
      "execution_count": null,
      "outputs": []
    },
    {
      "cell_type": "markdown",
      "source": [
        "==)) Logging is a means of tracking events that happen when some software runs. The software's developer adds logging calls to their code to indicate that certain events have occurred."
      ],
      "metadata": {
        "id": "VzEjXCfpo4oh"
      }
    },
    {
      "cell_type": "code",
      "source": [
        "Q.5) What is the significance of the _ _del_ _ method in Python?"
      ],
      "metadata": {
        "id": "6Qtqq42Wm0tz"
      },
      "execution_count": null,
      "outputs": []
    },
    {
      "cell_type": "markdown",
      "source": [
        "==)) The __del__ method in Python is a powerful tool for managing resource cleanup when objects are destroyed. It allows you to define specific actions that should be taken when an object is garbage collected, such as closing files, releasing locks, or closing network connections."
      ],
      "metadata": {
        "id": "D83vdjaApswh"
      }
    },
    {
      "cell_type": "code",
      "source": [
        "Q.6) What is the difference between import and from ... import in Python?"
      ],
      "metadata": {
        "id": "xRcMGwbfm0q-"
      },
      "execution_count": null,
      "outputs": []
    },
    {
      "cell_type": "markdown",
      "source": [
        "==)) In Python, both import and from ... import are used to bring modules or specific components from modules into the current namespace. However, they differ in how they make those components accessible.\n",
        "\n",
        "import module_name:\n",
        "This statement imports the entire module_name into the current namespace.\n",
        "To access any function, class, or variable from the module, you must prefix it with the module name, e.g., module_name.function().\n",
        "This approach helps prevent naming conflicts if you import multiple modules that happen to have components with the same name.\n",
        "\n",
        "from module_name import component_name:\n",
        "This statement imports only the specified component_name (e.g., a function, class, or variable) directly into the current namespace.\n",
        "You can then use component_name directly without needing to prefix it with the module name.\n",
        "If you import multiple components, you can separate them with commas: from module_name import component1, component2.\n",
        "Using from module_name import * imports all public components from the module directly into the current namespace. This is generally discouraged as it can lead to naming conflicts and make it harder to discern where a component originated."
      ],
      "metadata": {
        "id": "xNa76nddqFLh"
      }
    },
    {
      "cell_type": "code",
      "source": [
        "Q.7) How can you handle multiple exceptions in Python?"
      ],
      "metadata": {
        "id": "QnVaWVpfm0oE"
      },
      "execution_count": null,
      "outputs": []
    },
    {
      "cell_type": "markdown",
      "source": [
        "==)) To catch multiple exceptions in Python in a compact form, you can use the one-line try-except syntax. This is especially useful for handling minor errors without breaking the program flow. This one-line try-except statement catches multiple exceptions and provides a concise error-handling method."
      ],
      "metadata": {
        "id": "QunAwsNbrn9G"
      }
    },
    {
      "cell_type": "code",
      "source": [
        "Q.8) What is the purpose of the with statement when handling files in Python?"
      ],
      "metadata": {
        "id": "1hdwDhiKm0lF"
      },
      "execution_count": null,
      "outputs": []
    },
    {
      "cell_type": "markdown",
      "source": [
        "==)) The with statement in Python is used to simplify the management of resources that need to be acquired and released in a specific order. It provides a way to wrap the execution of a block of code with methods defined by a context manager."
      ],
      "metadata": {
        "id": "AGUncphwvb87"
      }
    },
    {
      "cell_type": "code",
      "source": [
        "Q.9) What is the difference between multithreading and multiprocessing?"
      ],
      "metadata": {
        "id": "GIzvkQdrm0h0"
      },
      "execution_count": null,
      "outputs": []
    },
    {
      "cell_type": "markdown",
      "source": [
        "==)) Multiprocessing and multithreading are two techniques for achieving parallelism in a program. Multithreading involves creating multiple threads within a single process, while multiprocessing involves creating multiple independent processes, each with its own memory space and resources."
      ],
      "metadata": {
        "id": "ovl3-qjSv7E7"
      }
    },
    {
      "cell_type": "code",
      "source": [
        "Q.10) What are the advantages of using logging in a program?"
      ],
      "metadata": {
        "id": "hjj23V9xm0es"
      },
      "execution_count": null,
      "outputs": []
    },
    {
      "cell_type": "markdown",
      "source": [
        "==)) 4 Benefits of Logging in Python:-\n",
        "\n",
        "It helps debug errors easily.\n",
        "\n",
        "It's more perceptive than traceback methods.\n",
        "\n",
        "It can be used to save info on warnings, errors and other events.\n",
        "\n",
        "Logs can analyze the history of the program and provide insights, patterns and trends."
      ],
      "metadata": {
        "id": "KFtxJBlzwQAz"
      }
    },
    {
      "cell_type": "code",
      "source": [
        "Q.11) What is memory management in Python?"
      ],
      "metadata": {
        "id": "MJj6jUc5wsqk"
      },
      "execution_count": null,
      "outputs": []
    },
    {
      "cell_type": "markdown",
      "source": [
        "==)) Memory management in Python refers to the system that handles how Python programs utilize and release memory on a computer. It is primarily managed automatically by the Python interpreter, relieving the programmer from explicit memory allocation and deallocation."
      ],
      "metadata": {
        "id": "o_7ih_ehwxe-"
      }
    },
    {
      "cell_type": "code",
      "source": [
        "Q.12) What are the basic steps involved in exception handling in Python?"
      ],
      "metadata": {
        "id": "leXsc3R3m0YM"
      },
      "execution_count": null,
      "outputs": []
    },
    {
      "cell_type": "markdown",
      "source": [
        "==)) The basic steps involved in exception handling in Python are as follows:\n",
        "\n",
        "try Block: This block contains the code that might potentially raise an exception. The Python interpreter attempts to execute the code within this block. If an exception occurs, the execution of the try block is immediately stopped, and control is transferred to the appropriate except block.\n",
        "\n",
        "except Block(s): This block, or set of blocks, is used to handle specific exceptions that might occur in the try block. If an exception is raised in the try block, Python searches for an except block that matches the type of exception. If a match is found, the code within that except block is executed. Multiple except blocks can be used to handle different types of exceptions.\n",
        "\n",
        "else Block (Optional): This block is executed only if no exceptions are raised in the try block. It is useful for placing code that should run only when the try block executes successfully.\n",
        "\n",
        "finally Block (Optional): This block is always executed, regardless of whether an exception occurred or not. It is typically used for cleanup operations, such as closing files or releasing resources, ensuring these actions happen even if an error disrupts the normal flow."
      ],
      "metadata": {
        "id": "GKTl0heLxOf0"
      }
    },
    {
      "cell_type": "code",
      "source": [
        "Q.13) Why is memory management important in Python?"
      ],
      "metadata": {
        "id": "OVmFOZGIm0Uy"
      },
      "execution_count": null,
      "outputs": []
    },
    {
      "cell_type": "markdown",
      "source": [
        "==)) Without proper memory management, you can face challenges while building these applications, as effective memory allocation is necessary in order to avoid problems that can arise when you run out of memory, such as memory leaks."
      ],
      "metadata": {
        "id": "SflRge8myGl5"
      }
    },
    {
      "cell_type": "code",
      "source": [
        "Q.14) What is the role of try and except in exception handling?"
      ],
      "metadata": {
        "id": "_-Rulg3Um0Rw"
      },
      "execution_count": null,
      "outputs": []
    },
    {
      "cell_type": "markdown",
      "source": [
        "==)) In exception handling, try and except blocks work together to gracefully manage errors. The try block contains code that might potentially raise an exception, while the except block catches and handles these exceptions, preventing the program from crashing."
      ],
      "metadata": {
        "id": "NTj2CG4Byh9M"
      }
    },
    {
      "cell_type": "code",
      "source": [
        "Q.15) How does Python's garbage collection system work?"
      ],
      "metadata": {
        "id": "JYK0Wx7dm0OU"
      },
      "execution_count": null,
      "outputs": []
    },
    {
      "cell_type": "markdown",
      "source": [
        "==)) Python's garbage collection automatically cleans up any unused objects based on reference counting and object allocation and deallocation, meaning users won't have to clean these objects manually."
      ],
      "metadata": {
        "id": "1CMpt3MHy21w"
      }
    },
    {
      "cell_type": "code",
      "source": [
        "Q.16) What is the purpose of the else block in exception handling?"
      ],
      "metadata": {
        "id": "DjYuQq2Im0Kg"
      },
      "execution_count": null,
      "outputs": []
    },
    {
      "cell_type": "markdown",
      "source": [
        "==)) The 'else' block is useful when you want to perform specific actions when no exceptions occur. It can be used, for example, to execute additional code if the 'try' block succeeds in its operation and enhances the program flow."
      ],
      "metadata": {
        "id": "nlqaY5jAz4p0"
      }
    },
    {
      "cell_type": "code",
      "source": [
        "Q.17) What are the common logging levels in Python?"
      ],
      "metadata": {
        "id": "JzMfjpDEm0HE"
      },
      "execution_count": null,
      "outputs": []
    },
    {
      "cell_type": "markdown",
      "source": [
        "==)) The Python logging module defines several standard logging levels, each indicating a different severity of an event:\n",
        "\n",
        "DEBUG: Detailed information, typically of interest only when diagnosing problems.\n",
        "\n",
        "INFO: Confirmation that things are working as expected.\n",
        "\n",
        "WARNING: An indication that something unexpected happened, or indicative of some problem in the near future (e.g., 'disk space low'). The software is still working as expected.\n",
        "\n",
        "ERROR: Due to a more serious problem, the software has not been able to perform some function.\n",
        "\n",
        "CRITICAL: A serious error, indicating that the program itself may be unable to continue running."
      ],
      "metadata": {
        "id": "lSsz3jlV0L9Y"
      }
    },
    {
      "cell_type": "code",
      "source": [
        "Q.18) What is the difference between os.fork() multiprocessing in Python?"
      ],
      "metadata": {
        "id": "ibWVzqLUnIN6"
      },
      "execution_count": null,
      "outputs": []
    },
    {
      "cell_type": "markdown",
      "source": [
        "==)) The primary differences between os.fork() and the multiprocessing module in Python, specifically multiprocessing.Process, lie in their portability, level of abstraction, and handling of process creation:\n",
        "\n",
        "Portability:\n",
        "os.fork() is a Unix-specific function and is not available on Windows. It directly utilizes the operating system's fork() system call.\n",
        "\n",
        "Level of Abstraction and Usage:\n",
        "os.fork() provides a low-level interface. When called, it creates a new child process that is an exact copy of the parent process at the time of the call, including its memory space, open file descriptors, and program state. The child process then continues execution from the point of the fork() call, and the return value differentiates it from the parent (0 for the child, child's PID for the parent).\n",
        "\n",
        "Process Creation Mechanism:\n",
        "os.fork() directly clones the current process. This means the child process inherits a copy-on-write duplicate of the parent's memory."
      ],
      "metadata": {
        "id": "dtedLfaJ0tER"
      }
    },
    {
      "cell_type": "code",
      "source": [
        "Q.19) What is the importance of closing a file in Python?"
      ],
      "metadata": {
        "id": "git20uktnIKi"
      },
      "execution_count": null,
      "outputs": []
    },
    {
      "cell_type": "markdown",
      "source": [
        "==)) When a file is open, the operating system allocates memory and other resources to the file, which can potentially impact the performance of the system if too many files are open at the same time. By closing the file, you release these resources back to the system, which can be used by other processes or programs."
      ],
      "metadata": {
        "id": "7X0MMmeM1M43"
      }
    },
    {
      "cell_type": "code",
      "source": [
        "Q.20) What is the difference between file.read() and file.readlines() in Python?"
      ],
      "metadata": {
        "id": "vBfaRLs2nIGZ"
      },
      "execution_count": null,
      "outputs": []
    },
    {
      "cell_type": "markdown",
      "source": [
        "==)) The file.read() and file.readlines() methods in Python are used for reading content from a file, but they differ in what they return and how they handle the file's content:\n",
        "\n",
        "\n",
        "file.read(): This method reads the entire content of the file and returns it as a single string. If an optional argument size is provided, it reads at most size bytes (or characters in text mode) from the file.\n",
        "\n",
        "file.readlines(): This method reads all lines from the file and returns them as a list of strings. Each element in the list represents a single line from the file, including the newline character (\\n) at the end of each line (if present in the file)."
      ],
      "metadata": {
        "id": "RKblT5Ft2m9u"
      }
    },
    {
      "cell_type": "code",
      "source": [
        "Q.21) What is the logging module in Python used for?"
      ],
      "metadata": {
        "id": "KX5VKQqOnH_w"
      },
      "execution_count": null,
      "outputs": []
    },
    {
      "cell_type": "markdown",
      "source": [
        "==)) The logging module in Python is used for recording events that occur during the execution of a program, such as errors, warnings, and debug messages. This module provides a flexible and reliable way to capture and store log data, which is useful for debugging, troubleshooting, and monitoring application performance."
      ],
      "metadata": {
        "id": "pcawdarH5U0h"
      }
    },
    {
      "cell_type": "code",
      "source": [
        "Q.22) What is the os module in Python used for in file handling?"
      ],
      "metadata": {
        "id": "Ea5L17z7nH7M"
      },
      "execution_count": null,
      "outputs": []
    },
    {
      "cell_type": "markdown",
      "source": [
        "==)) Python has a built-in os module with methods for interacting with the operating system, like creating files and directories, management of files and directories, input, output, environment variables, process management, etc."
      ],
      "metadata": {
        "id": "fV-oDjYJ5rWs"
      }
    },
    {
      "cell_type": "code",
      "source": [
        "Q.23) What are the challenges associated with memory management in Python?"
      ],
      "metadata": {
        "id": "8P5rUUHvnH3H"
      },
      "execution_count": null,
      "outputs": []
    },
    {
      "cell_type": "markdown",
      "source": [
        "==)) The challenges associated with memory management in Python primarily stem from its automatic nature and the underlying mechanisms used:\n",
        "\n",
        "Memory Leaks\n",
        "\n",
        "Performance Overhead of Garbage Collection\n",
        "\n",
        "Lack of Fine-Grained Control\n",
        "\n",
        "Memory Fragmentation\n",
        "\n",
        "Debugging Memory Issues\n",
        "\n",
        "Increased Memory Footprint, etc."
      ],
      "metadata": {
        "id": "wlQyEXty59bh"
      }
    },
    {
      "cell_type": "code",
      "source": [
        "Q.24) How do you raise an expected manually in Python?"
      ],
      "metadata": {
        "id": "IX_mqfw9nHzL"
      },
      "execution_count": null,
      "outputs": []
    },
    {
      "cell_type": "markdown",
      "source": [
        "==)) As a Python developer you can choose to throw an exception if a condition occurs. To throw (or raise) an exception, use the raise keyword."
      ],
      "metadata": {
        "id": "TzCfj-hW6iHy"
      }
    },
    {
      "cell_type": "code",
      "source": [
        "Q.25) Why is it important to use multithreading in certain applications?"
      ],
      "metadata": {
        "id": "ZUQI1exAnHvo"
      },
      "execution_count": null,
      "outputs": []
    },
    {
      "cell_type": "markdown",
      "source": [
        "==)) Multithreading is crucial for applications needing to perform multiple tasks simultaneously or to improve responsiveness and resource utilization. By dividing tasks into threads, applications can run faster, handle multiple requests concurrently, and make better use of CPU cores. This is particularly important in applications like web servers, image processing, and real-time systems where responsiveness and efficient resource management are vital.\n"
      ],
      "metadata": {
        "id": "XPmFByBi6zj5"
      }
    },
    {
      "cell_type": "code",
      "source": [
        "***PRACTICAL QUESTIONS***....."
      ],
      "metadata": {
        "id": "Dudb6xBI6-5D"
      },
      "execution_count": null,
      "outputs": []
    },
    {
      "cell_type": "code",
      "source": [
        "Q.1) How can you open a file for writing in Python and write a string to it?"
      ],
      "metadata": {
        "id": "a2LICiMS7DLp"
      },
      "execution_count": null,
      "outputs": []
    },
    {
      "cell_type": "code",
      "source": [
        "# Open a file named \"example.txt\" for writing\n",
        "with open(\"example.txt\", \"w\") as file:\n",
        "    # Write a string to the file\n",
        "    file.write(\"Hello, world!\")"
      ],
      "metadata": {
        "id": "Ub3Irgnl-UfN"
      },
      "execution_count": 3,
      "outputs": []
    },
    {
      "cell_type": "code",
      "source": [
        "Q.2) Write a Python program to read the contents of a file and print each line."
      ],
      "metadata": {
        "id": "Irbs0gig7DI5"
      },
      "execution_count": null,
      "outputs": []
    },
    {
      "cell_type": "code",
      "source": [
        "# Open the file in read mode\n",
        "with open(\"example.txt\", \"r\") as file:\n",
        "    # Loop through each line in the file\n",
        "    for line in file:\n",
        "        # Print the line\n",
        "        print(line, end=\"\")  # end=\"\" avoids adding extra newlines"
      ],
      "metadata": {
        "colab": {
          "base_uri": "https://localhost:8080/"
        },
        "id": "pRNVJkyR-lRp",
        "outputId": "b4aa326b-1eb7-4354-d982-c6c1ed5bf5cb"
      },
      "execution_count": 2,
      "outputs": [
        {
          "output_type": "stream",
          "name": "stdout",
          "text": [
            "Hello, world!"
          ]
        }
      ]
    },
    {
      "cell_type": "code",
      "source": [
        "Q.3) How would you handle a case where the file doesn't exist while trying to open it for reading?"
      ],
      "metadata": {
        "id": "Ne2heqoh7C_M"
      },
      "execution_count": null,
      "outputs": []
    },
    {
      "cell_type": "code",
      "source": [
        "try:\n",
        "    with open(\"example.txt\", \"r\") as file:\n",
        "        for line in file:\n",
        "            print(line, end=\"\")\n",
        "except FileNotFoundError:\n",
        "    print(\"The file does not exist.\")"
      ],
      "metadata": {
        "colab": {
          "base_uri": "https://localhost:8080/"
        },
        "id": "Z-Mpx1pQ-ywN",
        "outputId": "976d8737-f844-4342-c276-0a6eb9eac3d8"
      },
      "execution_count": 4,
      "outputs": [
        {
          "output_type": "stream",
          "name": "stdout",
          "text": [
            "Hello, world!"
          ]
        }
      ]
    },
    {
      "cell_type": "code",
      "source": [
        "Q.4) Write a Python script that reads from one file and writes its contents to another file."
      ],
      "metadata": {
        "id": "1u65gvth7C8z"
      },
      "execution_count": null,
      "outputs": []
    },
    {
      "cell_type": "code",
      "source": [
        "# Specify source and destination file names\n",
        "source_file = \"source.txt\"\n",
        "destination_file = \"destination.txt\"\n",
        "\n",
        "try:\n",
        "    # Open the source file in read mode\n",
        "    with open(source_file, \"r\") as src:\n",
        "        # Open the destination file in write mode\n",
        "        with open(destination_file, \"w\") as dest:\n",
        "            # Read each line from source and write to destination\n",
        "            for line in src:\n",
        "                dest.write(line)\n",
        "    print(\"File copied successfully.\")\n",
        "except FileNotFoundError:\n",
        "    print(f\"The file '{source_file}' does not exist.\")"
      ],
      "metadata": {
        "colab": {
          "base_uri": "https://localhost:8080/"
        },
        "id": "JsB1mthsy3bb",
        "outputId": "a5062920-b8a5-458e-ed57-ee0b93354870"
      },
      "execution_count": 1,
      "outputs": [
        {
          "output_type": "stream",
          "name": "stdout",
          "text": [
            "The file 'source.txt' does not exist.\n"
          ]
        }
      ]
    },
    {
      "cell_type": "code",
      "source": [
        "Q.5) How would you catch and handle division by zero errors in Python?"
      ],
      "metadata": {
        "id": "vFvHdcvl7C53"
      },
      "execution_count": null,
      "outputs": []
    },
    {
      "cell_type": "code",
      "source": [
        "try:\n",
        "    numerator = 10\n",
        "    denominator = 0\n",
        "    result = numerator / denominator\n",
        "    print(\"Result:\", result)\n",
        "except ZeroDivisionError:\n",
        "    print(\"Error: Cannot divide by zero.\")"
      ],
      "metadata": {
        "colab": {
          "base_uri": "https://localhost:8080/"
        },
        "id": "BtTUKHdqzHc6",
        "outputId": "57340d9a-8d00-4f9c-f85d-a6d1763224a8"
      },
      "execution_count": 2,
      "outputs": [
        {
          "output_type": "stream",
          "name": "stdout",
          "text": [
            "Error: Cannot divide by zero.\n"
          ]
        }
      ]
    },
    {
      "cell_type": "code",
      "source": [
        "Q.6) Write a Python program that logs an error message to a log file when a division by zero exception occurs."
      ],
      "metadata": {
        "id": "Lo3q5Nsn7C3J"
      },
      "execution_count": null,
      "outputs": []
    },
    {
      "cell_type": "code",
      "source": [
        "import logging\n",
        "\n",
        "# Configure logging\n",
        "logging.basicConfig(filename='error_log.txt', level=logging.ERROR,\n",
        "                    format='%(asctime)s - %(levelname)s - %(message)s')\n",
        "\n",
        "try:\n",
        "    numerator = 10\n",
        "    denominator = 0\n",
        "    result = numerator / denominator\n",
        "    print(\"Result:\", result)\n",
        "except ZeroDivisionError:\n",
        "    logging.error(\"Attempted to divide by zero.\")\n",
        "    print(\"An error occurred. Check the log file for details.\")"
      ],
      "metadata": {
        "id": "z28X4P-M1TOz",
        "outputId": "e44f1030-9a2f-4447-fb1e-3874b42d638b",
        "colab": {
          "base_uri": "https://localhost:8080/"
        }
      },
      "execution_count": 3,
      "outputs": [
        {
          "output_type": "stream",
          "name": "stderr",
          "text": [
            "ERROR:root:Attempted to divide by zero.\n"
          ]
        },
        {
          "output_type": "stream",
          "name": "stdout",
          "text": [
            "An error occurred. Check the log file for details.\n"
          ]
        }
      ]
    },
    {
      "cell_type": "code",
      "source": [
        "Q.7) How do you log information at different levels (INFO,ERROR,WARNING) in Python using the logging module?"
      ],
      "metadata": {
        "id": "_mEqWl6Q7C0g"
      },
      "execution_count": null,
      "outputs": []
    },
    {
      "cell_type": "markdown",
      "source": [
        "In Python, the logging module provides several logging levels to indicate the severity of events. Here’s how to log messages at different levels:\n",
        "\n",
        "Logging Levels:\n",
        "\n",
        "DEBUG: Detailed information, typically for diagnosing problems.\n",
        "\n",
        "INFO: General events or milestones.\n",
        "\n",
        "WARNING: Something unexpected or a potential problem.\n",
        "\n",
        "ERROR: A more serious issue; the program may still continue.\n",
        "\n",
        "CRITICAL: A severe error; program may not be able to continue."
      ],
      "metadata": {
        "id": "c2k8FI_G1uTz"
      }
    },
    {
      "cell_type": "code",
      "source": [
        "import logging\n",
        "\n",
        "# Configure the logging system\n",
        "logging.basicConfig(filename='app.log', level=logging.DEBUG,\n",
        "                    format='%(asctime)s - %(levelname)s - %(message)s')\n",
        "\n",
        "# Log messages at various severity levels\n",
        "logging.debug(\"This is a debug message.\")\n",
        "logging.info(\"This is an info message.\")\n",
        "logging.warning(\"This is a warning message.\")\n",
        "logging.error(\"This is an error message.\")\n",
        "logging.critical(\"This is a critical message.\")"
      ],
      "metadata": {
        "id": "sknysOFX1w-D",
        "outputId": "be503890-45c6-4186-9532-b3de2e674aff",
        "colab": {
          "base_uri": "https://localhost:8080/"
        }
      },
      "execution_count": 4,
      "outputs": [
        {
          "output_type": "stream",
          "name": "stderr",
          "text": [
            "WARNING:root:This is a warning message.\n",
            "ERROR:root:This is an error message.\n",
            "CRITICAL:root:This is a critical message.\n"
          ]
        }
      ]
    },
    {
      "cell_type": "code",
      "source": [
        "Q.8) Write a program to handle a file opening error using exception handling.\n"
      ],
      "metadata": {
        "id": "F7XMK0y67Cxv"
      },
      "execution_count": null,
      "outputs": []
    },
    {
      "cell_type": "code",
      "source": [
        "filename = \"non_existing_file.txt\"\n",
        "\n",
        "try:\n",
        "    # Try to open the file in read mode\n",
        "    with open(filename, \"r\") as file:\n",
        "        content = file.read()\n",
        "        print(\"File contents:\\n\", content)\n",
        "except FileNotFoundError:\n",
        "    print(f\"Error: The file '{filename}' was not found.\")\n",
        "except IOError:\n",
        "    print(f\"Error: An I/O error occurred while trying to open '{filename}'.\")"
      ],
      "metadata": {
        "id": "giMJ_43I1UQG",
        "outputId": "efaddc34-b9d1-4229-c12c-218333b33a4c",
        "colab": {
          "base_uri": "https://localhost:8080/"
        }
      },
      "execution_count": 5,
      "outputs": [
        {
          "output_type": "stream",
          "name": "stdout",
          "text": [
            "Error: The file 'non_existing_file.txt' was not found.\n"
          ]
        }
      ]
    },
    {
      "cell_type": "code",
      "source": [
        "Q.9) How can you read a file line by line and stores its content in a list in Python?"
      ],
      "metadata": {
        "id": "1OKSucia7Cu2"
      },
      "execution_count": null,
      "outputs": []
    },
    {
      "cell_type": "code",
      "source": [
        "METHOD 1:Using readlines()\n",
        "\n",
        "\n",
        "# Check if the file exists before attempting to read it\n",
        "import os\n",
        "\n",
        "filename = \"example.txt\"\n",
        "\n",
        "if os.path.exists(filename):\n",
        "    with open(filename, \"r\") as file:\n",
        "        lines = file.readlines()\n",
        "    print(lines)\n",
        "else:\n",
        "    print(f\"Error: The file '{filename}' was not found. Please ensure it exists.\")"
      ],
      "metadata": {
        "id": "7y2I-HeZ2Uit",
        "outputId": "836b73d7-282f-42ad-ee3f-a3957b698ffe",
        "colab": {
          "base_uri": "https://localhost:8080/"
        }
      },
      "execution_count": 7,
      "outputs": [
        {
          "output_type": "stream",
          "name": "stdout",
          "text": [
            "Error: The file 'example.txt' was not found. Please ensure it exists.\n"
          ]
        }
      ]
    },
    {
      "cell_type": "code",
      "source": [
        "METHOD 2: Using a loop with append()\n",
        "\n",
        "# Ensure the file exists with some content for the read operation\n",
        "with open(\"example.txt\", \"w\") as file:\n",
        "    file.write(\"Line 1\\n\")\n",
        "    file.write(\"Line 2\\n\")\n",
        "    file.write(\"Line 3\\n\")\n",
        "\n",
        "lines = []\n",
        "\n",
        "try:\n",
        "    with open(\"example.txt\", \"r\") as file:\n",
        "        for line in file:\n",
        "            lines.append(line)\n",
        "\n",
        "    print(lines)\n",
        "except FileNotFoundError:\n",
        "    print(\"Error: The file 'example.txt' was not found.\")"
      ],
      "metadata": {
        "id": "G-8GA2tp2gJ0",
        "outputId": "a795b232-5e93-4e53-ce39-5fe14642a2e3",
        "colab": {
          "base_uri": "https://localhost:8080/"
        }
      },
      "execution_count": 9,
      "outputs": [
        {
          "output_type": "stream",
          "name": "stdout",
          "text": [
            "['Line 1\\n', 'Line 2\\n', 'Line 3\\n']\n"
          ]
        }
      ]
    },
    {
      "cell_type": "code",
      "source": [
        "(OPTIONAL) Strip newline characters:\n",
        "\n",
        "with open(\"example.txt\", \"r\") as file:\n",
        "    lines = [line.strip() for line in file]\n",
        "\n",
        "print(lines)"
      ],
      "metadata": {
        "id": "hgZ14kOY2hqb",
        "outputId": "3e4166be-6198-4914-ca7d-bd73e15a5b1c",
        "colab": {
          "base_uri": "https://localhost:8080/"
        }
      },
      "execution_count": 10,
      "outputs": [
        {
          "output_type": "stream",
          "name": "stdout",
          "text": [
            "['Line 1', 'Line 2', 'Line 3']\n"
          ]
        }
      ]
    },
    {
      "cell_type": "code",
      "source": [
        "Q.10) How can you append data to an existing file in Python?"
      ],
      "metadata": {
        "id": "W54YiVvE7Crn"
      },
      "execution_count": null,
      "outputs": []
    },
    {
      "cell_type": "code",
      "source": [
        "# Open the file in append mode\n",
        "with open(\"example.txt\", \"a\") as file:\n",
        "    file.write(\"This is a new line of text.\\n\")\n"
      ],
      "metadata": {
        "id": "mYhjxqpo1WMK"
      },
      "execution_count": 14,
      "outputs": []
    },
    {
      "cell_type": "code",
      "source": [
        "with open(\"example.txt\", \"a+\") as file:\n",
        "    file.write(\"Appended line with read capability.\\n\")\n",
        "    file.seek(0)  # Move cursor to start of file to read from beginning\n",
        "    content = file.read()\n",
        "    print(content)"
      ],
      "metadata": {
        "id": "UpM07e803Qio",
        "outputId": "90ec70b7-e45b-4dda-c20b-627b8cb159ea",
        "colab": {
          "base_uri": "https://localhost:8080/"
        }
      },
      "execution_count": 13,
      "outputs": [
        {
          "output_type": "stream",
          "name": "stdout",
          "text": [
            "Line 1\n",
            "Line 2\n",
            "Line 3\n",
            "This is a new line of text.\n",
            "This is a new line of text.\n",
            "Appended line with read capability.\n",
            "\n"
          ]
        }
      ]
    },
    {
      "cell_type": "code",
      "source": [
        "Q.11) Write a Python program that uses a try-except block to handle an error when attempting to access a dictionary key that doesn't exist."
      ],
      "metadata": {
        "id": "vdTKduWO7Co8"
      },
      "execution_count": null,
      "outputs": []
    },
    {
      "cell_type": "code",
      "source": [
        "# Sample dictionary\n",
        "student = {\n",
        "    \"name\": \"Alice\",\n",
        "    \"age\": 21\n",
        "}\n",
        "\n",
        "# Attempt to access a non-existent key\n",
        "try:\n",
        "    grade = student[\"grade\"]\n",
        "    print(\"Grade:\", grade)\n",
        "except KeyError:\n",
        "    print(\"Error: The key 'grade' does not exist in the dictionary.\")"
      ],
      "metadata": {
        "id": "XIpdeME33TBf",
        "outputId": "7fb24e06-49a5-42d2-de04-6a6a90052ac5",
        "colab": {
          "base_uri": "https://localhost:8080/"
        }
      },
      "execution_count": 15,
      "outputs": [
        {
          "output_type": "stream",
          "name": "stdout",
          "text": [
            "Error: The key 'grade' does not exist in the dictionary.\n"
          ]
        }
      ]
    },
    {
      "cell_type": "code",
      "source": [
        "grade = student.get(\"grade\", \"Not available\")\n",
        "print(\"Grade:\", grade)"
      ],
      "metadata": {
        "id": "xe1NfHaH3jMH",
        "outputId": "d4b6b434-cfc7-4a1e-848c-663b0cf40cb8",
        "colab": {
          "base_uri": "https://localhost:8080/"
        }
      },
      "execution_count": 16,
      "outputs": [
        {
          "output_type": "stream",
          "name": "stdout",
          "text": [
            "Grade: Not available\n"
          ]
        }
      ]
    },
    {
      "cell_type": "code",
      "source": [
        "Q.12) Write a program that demonstrates using multiple except blocks to handle different types of exceptions."
      ],
      "metadata": {
        "id": "hFLeOfsA7Clx"
      },
      "execution_count": null,
      "outputs": []
    },
    {
      "cell_type": "code",
      "source": [
        "try:\n",
        "    # Input from user\n",
        "    num1 = int(input(\"Enter the numerator: \"))\n",
        "    num2 = int(input(\"Enter the denominator: \"))\n",
        "\n",
        "    result = num1 / num2\n",
        "    print(\"Result:\", result)\n",
        "\n",
        "    # Try to access a dictionary key\n",
        "    data = {\"name\": \"Alice\"}\n",
        "    print(\"Age:\", data[\"age\"])\n",
        "\n",
        "except ZeroDivisionError:\n",
        "    print(\"Error: You cannot divide by zero.\")\n",
        "\n",
        "except ValueError:\n",
        "    print(\"Error: Please enter valid integers.\")\n",
        "\n",
        "except KeyError:\n",
        "    print(\"Error: The key you tried to access does not exist in the dictionary.\")\n",
        "\n",
        "except Exception as e:\n",
        "    print(\"An unexpected error occurred:\", e)"
      ],
      "metadata": {
        "id": "skiLygnU3Tm7",
        "outputId": "934bcb78-0f93-4884-f73a-33b9cdcb96cb",
        "colab": {
          "base_uri": "https://localhost:8080/"
        }
      },
      "execution_count": 17,
      "outputs": [
        {
          "output_type": "stream",
          "name": "stdout",
          "text": [
            "Enter the numerator: 10\n",
            "Enter the denominator: 20\n",
            "Result: 0.5\n",
            "Error: The key you tried to access does not exist in the dictionary.\n"
          ]
        }
      ]
    },
    {
      "cell_type": "code",
      "source": [
        "Q.13) How would you check if a file exists before attempting to read it in Python?"
      ],
      "metadata": {
        "id": "6_HsGR4A7CiQ"
      },
      "execution_count": null,
      "outputs": []
    },
    {
      "cell_type": "code",
      "source": [
        "Method 1: Using os.path.exists()\n",
        "\n",
        "\n",
        "import os\n",
        "\n",
        "filename = \"example.txt\"\n",
        "\n",
        "if os.path.exists(filename):\n",
        "    with open(filename, \"r\") as file:\n",
        "        content = file.read()\n",
        "        print(content)\n",
        "else:\n",
        "    print(f\"Error: The file '{filename}' does not exist.\")"
      ],
      "metadata": {
        "id": "mfLkUo2y3UKR",
        "outputId": "57a3d45b-42e2-44cf-f8b1-93c539a3a462",
        "colab": {
          "base_uri": "https://localhost:8080/"
        }
      },
      "execution_count": 18,
      "outputs": [
        {
          "output_type": "stream",
          "name": "stdout",
          "text": [
            "Line 1\n",
            "Line 2\n",
            "Line 3\n",
            "This is a new line of text.\n",
            "This is a new line of text.\n",
            "Appended line with read capability.\n",
            "This is a new line of text.\n",
            "\n"
          ]
        }
      ]
    },
    {
      "cell_type": "code",
      "source": [
        "Method 2: Using pathlib.Path.exists()\n",
        "\n",
        "from pathlib import Path\n",
        "\n",
        "file_path = Path(\"example.txt\")\n",
        "\n",
        "if file_path.exists():\n",
        "    with open(file_path, \"r\") as file:\n",
        "        content = file.read()\n",
        "        print(content)\n",
        "else:\n",
        "    print(f\"Error: The file '{file_path}' does not exist.\")"
      ],
      "metadata": {
        "id": "--zDbAYv3_l2",
        "outputId": "f70afa38-840a-450f-beb6-54253afa0f68",
        "colab": {
          "base_uri": "https://localhost:8080/"
        }
      },
      "execution_count": 19,
      "outputs": [
        {
          "output_type": "stream",
          "name": "stdout",
          "text": [
            "Line 1\n",
            "Line 2\n",
            "Line 3\n",
            "This is a new line of text.\n",
            "This is a new line of text.\n",
            "Appended line with read capability.\n",
            "This is a new line of text.\n",
            "\n"
          ]
        }
      ]
    },
    {
      "cell_type": "code",
      "source": [
        "Q.14) Write a program that uses the logging module to log both informational and error messages."
      ],
      "metadata": {
        "id": "DQKRIyXx7Cfz"
      },
      "execution_count": null,
      "outputs": []
    },
    {
      "cell_type": "code",
      "source": [
        "import logging\n",
        "\n",
        "# Configure logging: logs go to 'app.log' file\n",
        "logging.basicConfig(filename='app.log',\n",
        "                    level=logging.INFO,  # Log INFO and above\n",
        "                    format='%(asctime)s - %(levelname)s - %(message)s')\n",
        "\n",
        "# Log an informational message\n",
        "logging.info(\"This is an informational message.\")\n",
        "\n",
        "try:\n",
        "    # Example operation that can cause an error\n",
        "    result = 10 / 0\n",
        "except ZeroDivisionError:\n",
        "    logging.error(\"Error: Division by zero occurred.\")"
      ],
      "metadata": {
        "id": "hL8JnnqW3Uk9",
        "outputId": "8c66de1b-eb33-41bc-9668-d14dedde4671",
        "colab": {
          "base_uri": "https://localhost:8080/"
        }
      },
      "execution_count": 20,
      "outputs": [
        {
          "output_type": "stream",
          "name": "stderr",
          "text": [
            "ERROR:root:Error: Division by zero occurred.\n"
          ]
        }
      ]
    },
    {
      "cell_type": "code",
      "source": [
        "Q.15) Write a Python program that prints the content of a file and handles the case when the file is empty."
      ],
      "metadata": {
        "id": "MOpmCVsc7CdL"
      },
      "execution_count": null,
      "outputs": []
    },
    {
      "cell_type": "code",
      "source": [
        "filename = \"example.txt\"\n",
        "\n",
        "try:\n",
        "    with open(filename, \"r\") as file:\n",
        "        content = file.read()\n",
        "        if content:\n",
        "            print(\"File contents:\")\n",
        "            print(content)\n",
        "        else:\n",
        "            print(\"The file is empty.\")\n",
        "except FileNotFoundError:\n",
        "    print(f\"Error: The file '{filename}' does not exist.\")"
      ],
      "metadata": {
        "id": "sVfJLaMc3U4K",
        "outputId": "c77b5215-acdc-4068-a909-317289d618b7",
        "colab": {
          "base_uri": "https://localhost:8080/"
        }
      },
      "execution_count": 21,
      "outputs": [
        {
          "output_type": "stream",
          "name": "stdout",
          "text": [
            "File contents:\n",
            "Line 1\n",
            "Line 2\n",
            "Line 3\n",
            "This is a new line of text.\n",
            "This is a new line of text.\n",
            "Appended line with read capability.\n",
            "This is a new line of text.\n",
            "\n"
          ]
        }
      ]
    },
    {
      "cell_type": "code",
      "source": [
        "Q.16) Demonstrate how to use memory profiling to check the memory usage of a small program."
      ],
      "metadata": {
        "id": "kySRD_gQ7CaI"
      },
      "execution_count": null,
      "outputs": []
    },
    {
      "cell_type": "markdown",
      "source": [
        "Step 1: Install memory_profiler\n",
        "\n",
        "pip install memory-profiler"
      ],
      "metadata": {
        "id": "-Ou8hxt74o-0"
      }
    },
    {
      "cell_type": "code",
      "source": [
        "Step 2: Example program with memory profiling\n",
        "\n",
        "# Step 1: Install memory_profiler\n",
        "!pip install memory-profiler\n",
        "\n",
        "from memory_profiler import profile\n",
        "\n",
        "@profile\n",
        "def my_function():\n",
        "    a = [i for i in range(100000)]  # Allocate a large list\n",
        "    b = [i * 2 for i in a]           # Another list based on a\n",
        "    return b\n",
        "\n",
        "if __name__ == \"__main__\":\n",
        "    my_function()"
      ],
      "metadata": {
        "id": "p2x98jis47bQ",
        "outputId": "52eee3b5-5758-4c86-bac9-750518ec497d",
        "colab": {
          "base_uri": "https://localhost:8080/"
        }
      },
      "execution_count": 23,
      "outputs": [
        {
          "output_type": "stream",
          "name": "stdout",
          "text": [
            "Collecting memory-profiler\n",
            "  Downloading memory_profiler-0.61.0-py3-none-any.whl.metadata (20 kB)\n",
            "Requirement already satisfied: psutil in /usr/local/lib/python3.11/dist-packages (from memory-profiler) (5.9.5)\n",
            "Downloading memory_profiler-0.61.0-py3-none-any.whl (31 kB)\n",
            "Installing collected packages: memory-profiler\n",
            "Successfully installed memory-profiler-0.61.0\n"
          ]
        },
        {
          "output_type": "stream",
          "name": "stderr",
          "text": [
            "\n",
            "PYDEV DEBUGGER WARNING:\n",
            "sys.settrace() should not be used when the debugger is being used.\n",
            "This may cause the debugger to stop working correctly.\n",
            "If this is needed, please check: \n",
            "http://pydev.blogspot.com/2007/06/why-cant-pydev-debugger-work-with.html\n",
            "to see how to restore the debug tracing back correctly.\n",
            "Call Location:\n",
            "  File \"/usr/local/lib/python3.11/dist-packages/memory_profiler.py\", line 847, in enable\n",
            "    sys.settrace(self.trace_memory_usage)\n",
            "\n",
            "\n",
            "PYDEV DEBUGGER WARNING:\n",
            "sys.settrace() should not be used when the debugger is being used.\n",
            "This may cause the debugger to stop working correctly.\n",
            "If this is needed, please check: \n",
            "http://pydev.blogspot.com/2007/06/why-cant-pydev-debugger-work-with.html\n",
            "to see how to restore the debug tracing back correctly.\n",
            "Call Location:\n",
            "  File \"/usr/local/lib/python3.11/dist-packages/memory_profiler.py\", line 850, in disable\n",
            "    sys.settrace(self._original_trace_function)\n",
            "\n"
          ]
        },
        {
          "output_type": "stream",
          "name": "stdout",
          "text": [
            "ERROR: Could not find file <ipython-input-23-26f07afe438b>\n",
            "NOTE: %mprun can only be used on functions defined in physical files, and not in the IPython environment.\n"
          ]
        }
      ]
    },
    {
      "cell_type": "markdown",
      "source": [
        "Step 3: Run the program with memory profiling\n",
        "\n",
        "python -m memory_profiler memory_test.py"
      ],
      "metadata": {
        "id": "v7rulcpq5GA2"
      }
    },
    {
      "cell_type": "code",
      "source": [
        "Q.17) Write a Python program to create and write a list of numbers to a file, one number per line."
      ],
      "metadata": {
        "id": "JohReMUT7clV"
      },
      "execution_count": null,
      "outputs": []
    },
    {
      "cell_type": "code",
      "source": [
        "numbers = [1, 2, 3, 4, 5, 6, 7, 8, 9, 10]\n",
        "\n",
        "with open(\"numbers.txt\", \"w\") as file:\n",
        "    for number in numbers:\n",
        "        file.write(f\"{number}\\n\")"
      ],
      "metadata": {
        "id": "ZktWZtB67ox3"
      },
      "execution_count": 36,
      "outputs": []
    },
    {
      "cell_type": "code",
      "source": [
        "Q.18) How would you implement a basic logging setup that logs to a file with rotation after 1MB?"
      ],
      "metadata": {
        "id": "QLpNFyoy7chn"
      },
      "execution_count": null,
      "outputs": []
    },
    {
      "cell_type": "code",
      "source": [
        "import logging\n",
        "from logging.handlers import RotatingFileHandler\n",
        "\n",
        "# Set up a rotating file handler\n",
        "handler = RotatingFileHandler(\n",
        "    \"app.log\", maxBytes=1_000_000, backupCount=5  # 1MB, keep up to 5 backup files\n",
        ")\n",
        "\n",
        "# Configure the logger\n",
        "logging.basicConfig(\n",
        "    level=logging.INFO,\n",
        "    handlers=[handler],\n",
        "    format=\"%(asctime)s - %(levelname)s - %(message)s\"\n",
        ")\n",
        "\n",
        "# Example usage\n",
        "logging.info(\"This is an info message.\")\n",
        "logging.error(\"This is an error message.\")"
      ],
      "metadata": {
        "id": "XEqPS6KX7pIw",
        "outputId": "b23be7b6-9938-4d8c-90fd-9b8feb7778e8",
        "colab": {
          "base_uri": "https://localhost:8080/"
        }
      },
      "execution_count": 26,
      "outputs": [
        {
          "output_type": "stream",
          "name": "stderr",
          "text": [
            "ERROR:root:This is an error message.\n"
          ]
        }
      ]
    },
    {
      "cell_type": "code",
      "source": [
        "Q.19) Write a program that handles both IndexError and KeyError using a try-except block."
      ],
      "metadata": {
        "id": "IFPBZ3TJ7cev"
      },
      "execution_count": null,
      "outputs": []
    },
    {
      "cell_type": "code",
      "source": [
        "my_list = [10, 20, 30]\n",
        "my_dict = {\"name\": \"Alice\"}\n",
        "\n",
        "try:\n",
        "    # Accessing an invalid index in the list\n",
        "    print(\"List item:\", my_list[5])\n",
        "\n",
        "    # Accessing a non-existent key in the dictionary\n",
        "    print(\"Dictionary value:\", my_dict[\"age\"])\n",
        "\n",
        "except IndexError:\n",
        "    print(\"Error: List index out of range.\")\n",
        "\n",
        "except KeyError:\n",
        "    print(\"Error: Key not found in the dictionary.\")"
      ],
      "metadata": {
        "id": "lfPZo4ml7peB",
        "outputId": "a89101e1-ad60-408b-b447-99b6f83c5a4d",
        "colab": {
          "base_uri": "https://localhost:8080/"
        }
      },
      "execution_count": 29,
      "outputs": [
        {
          "output_type": "stream",
          "name": "stdout",
          "text": [
            "Error: List index out of range.\n"
          ]
        }
      ]
    },
    {
      "cell_type": "code",
      "source": [
        "Q.20) How would you open a file and read its contents using a context manager in Python?"
      ],
      "metadata": {
        "id": "BMJWsQvH7cby"
      },
      "execution_count": null,
      "outputs": []
    },
    {
      "cell_type": "code",
      "source": [
        "filename = \"example.txt\"\n",
        "\n",
        "with open(filename, \"r\") as file:\n",
        "    content = file.read()\n",
        "\n",
        "print(content)"
      ],
      "metadata": {
        "id": "QrszAFSU7p9q",
        "outputId": "b58910cd-fb36-414b-84e9-b48cc0b5bf47",
        "colab": {
          "base_uri": "https://localhost:8080/"
        }
      },
      "execution_count": 31,
      "outputs": [
        {
          "output_type": "stream",
          "name": "stdout",
          "text": [
            "Line 1\n",
            "Line 2\n",
            "Line 3\n",
            "This is a new line of text.\n",
            "This is a new line of text.\n",
            "Appended line with read capability.\n",
            "This is a new line of text.\n",
            "\n"
          ]
        }
      ]
    },
    {
      "cell_type": "code",
      "source": [
        "Q.21) Write a python program that reads a files and prints the number of occurrences of a specific word."
      ],
      "metadata": {
        "id": "mLvHD0fy7cWf"
      },
      "execution_count": null,
      "outputs": []
    },
    {
      "cell_type": "code",
      "source": [
        "filename = \"example.txt\"\n",
        "word_to_count = \"python\"\n",
        "\n",
        "try:\n",
        "    with open(filename, \"r\") as file:\n",
        "        content = file.read().lower()  # convert to lowercase for case-insensitive matching\n",
        "        words = content.split()         # split into words\n",
        "        count = words.count(word_to_count.lower())\n",
        "\n",
        "    print(f\"The word '{word_to_count}' occurs {count} times in the file.\")\n",
        "except FileNotFoundError:\n",
        "    print(f\"Error: The file '{filename}' does not exist.\")"
      ],
      "metadata": {
        "id": "S-x_O4lB7rnQ",
        "outputId": "4657ca16-ea21-4415-b1f5-8131e39cda3b",
        "colab": {
          "base_uri": "https://localhost:8080/"
        }
      },
      "execution_count": 32,
      "outputs": [
        {
          "output_type": "stream",
          "name": "stdout",
          "text": [
            "The word 'python' occurs 0 times in the file.\n"
          ]
        }
      ]
    },
    {
      "cell_type": "code",
      "source": [
        "Q.22) How can you check if a file is empty before attempting to read its contents?"
      ],
      "metadata": {
        "id": "9nfsLzBW7cUD"
      },
      "execution_count": null,
      "outputs": []
    },
    {
      "cell_type": "code",
      "source": [
        "Method 1: Using os.path.getsize()\n",
        "\n",
        "import os\n",
        "\n",
        "filename = \"example.txt\"\n",
        "\n",
        "if os.path.exists(filename):\n",
        "    if os.path.getsize(filename) > 0:\n",
        "        with open(filename, \"r\") as file:\n",
        "            content = file.read()\n",
        "            print(content)\n",
        "    else:\n",
        "        print(\"The file is empty.\")\n",
        "else:\n",
        "    print(f\"The file '{filename}' does not exist.\")\n"
      ],
      "metadata": {
        "id": "oicZWzUP7r35",
        "outputId": "99f0584e-4a1b-46d5-ce56-f520391e0721",
        "colab": {
          "base_uri": "https://localhost:8080/"
        }
      },
      "execution_count": 33,
      "outputs": [
        {
          "output_type": "stream",
          "name": "stdout",
          "text": [
            "Line 1\n",
            "Line 2\n",
            "Line 3\n",
            "This is a new line of text.\n",
            "This is a new line of text.\n",
            "Appended line with read capability.\n",
            "This is a new line of text.\n",
            "\n"
          ]
        }
      ]
    },
    {
      "cell_type": "code",
      "source": [
        "Method 2: Using pathlib.Path.stat()\n",
        "\n",
        "from pathlib import Path\n",
        "\n",
        "file_path = Path(\"example.txt\")\n",
        "\n",
        "if file_path.exists():\n",
        "    if file_path.stat().st_size > 0:\n",
        "        with open(file_path, \"r\") as file:\n",
        "            content = file.read()\n",
        "            print(content)\n",
        "    else:\n",
        "        print(\"The file is empty.\")\n",
        "else:\n",
        "    print(f\"The file '{file_path}' does not exist.\")"
      ],
      "metadata": {
        "id": "a1KsIRbZ8nKr",
        "outputId": "1e9c69a1-05e5-4f15-e57d-2a53b6f5cfd9",
        "colab": {
          "base_uri": "https://localhost:8080/"
        }
      },
      "execution_count": 34,
      "outputs": [
        {
          "output_type": "stream",
          "name": "stdout",
          "text": [
            "Line 1\n",
            "Line 2\n",
            "Line 3\n",
            "This is a new line of text.\n",
            "This is a new line of text.\n",
            "Appended line with read capability.\n",
            "This is a new line of text.\n",
            "\n"
          ]
        }
      ]
    },
    {
      "cell_type": "code",
      "source": [
        "Q.23) Write a Python program that writes to a log file when an eror occurs during file handling."
      ],
      "metadata": {
        "id": "EOjZ4dod7cRQ"
      },
      "execution_count": null,
      "outputs": []
    },
    {
      "cell_type": "code",
      "source": [
        "import logging\n",
        "\n",
        "# Configure logging to write errors to 'error.log'\n",
        "logging.basicConfig(\n",
        "    filename='error.log',\n",
        "    level=logging.ERROR,\n",
        "    format='%(asctime)s - %(levelname)s - %(message)s'\n",
        ")\n",
        "\n",
        "filename = \"non_existent_file.txt\"\n",
        "\n",
        "try:\n",
        "    with open(filename, \"r\") as file:\n",
        "        content = file.read()\n",
        "        print(content)\n",
        "except Exception as e:\n",
        "    logging.error(f\"Error while handling file '{filename}': {e}\")\n",
        "    print(\"An error occurred. Check 'error.log' for details.\")"
      ],
      "metadata": {
        "id": "NG8oYbez7sfU",
        "outputId": "86add768-2296-49a6-95f2-e6ab81123511",
        "colab": {
          "base_uri": "https://localhost:8080/"
        }
      },
      "execution_count": 35,
      "outputs": [
        {
          "output_type": "stream",
          "name": "stderr",
          "text": [
            "ERROR:root:Error while handling file 'non_existent_file.txt': [Errno 2] No such file or directory: 'non_existent_file.txt'\n"
          ]
        },
        {
          "output_type": "stream",
          "name": "stdout",
          "text": [
            "An error occurred. Check 'error.log' for details.\n"
          ]
        }
      ]
    }
  ]
}